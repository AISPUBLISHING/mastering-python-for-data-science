{
 "cells": [
  {
   "cell_type": "markdown",
   "metadata": {},
   "source": [
    "## Assignment 2 - please answer the questions as thoroughly as possible, and provide detailed interpretation whenever possible"
   ]
  },
  {
   "cell_type": "code",
   "execution_count": null,
   "metadata": {},
   "outputs": [],
   "source": []
  },
  {
   "cell_type": "code",
   "execution_count": 56,
   "metadata": {},
   "outputs": [
    {
     "name": "stdout",
     "output_type": "stream",
     "text": [
      "555\n"
     ]
    }
   ],
   "source": [
    "import pandas as pd\n",
    "import numpy as np\n",
    "df=pd.read_csv(\"banklist.csv\")\n",
    "df.head()\n",
    "print(len(df))"
   ]
  },
  {
   "cell_type": "markdown",
   "metadata": {},
   "source": [
    "## Question 1 (20 points)"
   ]
  },
  {
   "cell_type": "code",
   "execution_count": 43,
   "metadata": {},
   "outputs": [],
   "source": [
    "#Look at the data set: First, make sure there are no missing values in\n",
    "#any of the categorical columns.If there are, replace them with\n",
    "#a 'M' value. Then, consider that Acquiring Institution column is the institution that holds various banks.\n",
    "#What are the top 4 acquiring institutions?$"
   ]
  },
  {
   "cell_type": "code",
   "execution_count": 57,
   "metadata": {},
   "outputs": [
    {
     "name": "stdout",
     "output_type": "stream",
     "text": [
      "Bank Name                0\n",
      "City                     0\n",
      "ST                       0\n",
      "CERT                     0\n",
      "Acquiring Institution    0\n",
      "Closing Date             0\n",
      "Updated Date             0\n",
      "dtype: int64\n",
      "Bank Name                0\n",
      "City                     0\n",
      "ST                       0\n",
      "Acquiring Institution    0\n",
      "dtype: int64\n"
     ]
    },
    {
     "data": {
      "text/plain": [
       "138"
      ]
     },
     "execution_count": 57,
     "metadata": {},
     "output_type": "execute_result"
    },
    {
     "data": {
      "image/png": "[encoded data removed]",
      "text/plain": [
       "<Figure size 432x288 with 1 Axes>"
      ]
     },
     "metadata": {
      "needs_background": "light"
     },
     "output_type": "display_data"
    }
   ],
   "source": [
    "#Look at the data set: First, make sure there are no missing values in\n",
    "#any of the categorical columns.If there are, replace them with\n",
    "#a 'M' value.\n",
    "\n",
    "#checking missing values in the whole dataset. \n",
    "print(df.isnull().sum())# no missing values in this dataset\n",
    "\n",
    "\n",
    "\n",
    "#the assingment said to specifically look at categorical vars. SO doing that too\n",
    "df_categorical = df[['Bank Name','City', 'ST', 'Acquiring Institution']]\n",
    "#creating object with all categoricals vars\n",
    "print(df_categorical.isnull().sum())\n",
    "#there are no missing values in the categorical variables. \n",
    "\n",
    "#assigning null values with M should they be missing (which they aren't ) \n",
    "#in the categorical variables. \n",
    "df_cat_clean = df_categorical.fillna('M')\n",
    "\n",
    "\n",
    "#Then, consider that Acquiring Institution column \n",
    "#is the institution that holds various banks.\n",
    "#What are the top 4 acquiring institutions?\n",
    "\n",
    "#assigning new object to get value counts for each \n",
    "#of the Acquiring Institution\n",
    "\n",
    "\n",
    "Ac_inst_count = df['Acquiring Institution'].value_counts()\n",
    "Ac_inst_count.sort_values(ascending=False).iloc[0:4] # printing top 4 \n",
    "\n",
    "\n",
    "#plotting the top Acquiring Inst.\n",
    "import matplotlib.pyplot as plt\n",
    "Ac_inst_count[:4].plot(kind='barh', rot=0)\n",
    "\n",
    "\n",
    "\n",
    "#stats summary of dataset. \n",
    "df.describe()\n",
    "\n",
    "\n",
    "#How many city names start with the letter 'A'? \n",
    "\n",
    "#subsetting the categorical dataset that I made earlier to do this. \n",
    "df_city = df_categorical[\"City\"]\n",
    "#Selecting the City column in the categroical database. \n",
    "#using starts with to identify all A's cities, then summing those\n",
    "df_A = df_city.str.startswith(\"A\")\n",
    "df_A.sum()#thre are 34 cities that start with A\n",
    "\n",
    "\n",
    "# how many cities don't start with A? \n",
    "\n",
    "new_cities = []#creating empty list to hold new cities\n",
    "for city in df_city:# the loop is iterating over all cities in the city column\n",
    "    #it is looking for all starting letters excluding A\n",
    "    if city.startswith(tuple('BCDEFGHIJKLMNOPQRSTUVWXYZ')):\n",
    "        new_cities.append(city)#adding those cities to the empty list\n",
    "new_cities.sort()#sorting \n",
    "\n",
    "new_cities = pd.DataFrame(new_cities)\n",
    "\n",
    "\n",
    "new_cities.shape #there are 521 cities that do not start with the letter A\n",
    "\n",
    "\n",
    "#What are the cities whose names consist of 2 words and how many are there?\n",
    "two_word_cities = df_city.str.contains(' ')\n",
    "two_word_cities.sum()\n",
    "#there are 138 cities with 2 words in them."
   ]
  },
  {
   "cell_type": "code",
   "execution_count": 45,
   "metadata": {},
   "outputs": [],
   "source": [
    "#How many city names start with the letter 'A' and how many don't? Use the str vectorized series attribute"
   ]
  },
  {
   "cell_type": "code",
   "execution_count": 46,
   "metadata": {},
   "outputs": [],
   "source": [
    "#answer here"
   ]
  },
  {
   "cell_type": "code",
   "execution_count": 47,
   "metadata": {},
   "outputs": [],
   "source": [
    "#What are the cities whose names consist of 2 words and how many are there?"
   ]
  },
  {
   "cell_type": "code",
   "execution_count": 48,
   "metadata": {},
   "outputs": [],
   "source": [
    "#answer here"
   ]
  },
  {
   "cell_type": "markdown",
   "metadata": {},
   "source": [
    "## Question 2 (50 points)"
   ]
  },
  {
   "cell_type": "code",
   "execution_count": 49,
   "metadata": {},
   "outputs": [],
   "source": [
    "#use various apply and group by methods studied in class to obtain the city for each state corresponding to the smallest\n",
    "#number of certificates (CERT column). Then, display only the city, state combinations along with the number of certificates\n",
    "#(data frame with 3 columns) for which the Acquiring Institution contains 3 words (for this exercise, you can count symbols\n",
    "#like & and others as words for each Acquiring Institution)"
   ]
  },
  {
   "cell_type": "code",
   "execution_count": 58,
   "metadata": {},
   "outputs": [
    {
     "data": {
      "text/plain": [
       "<matplotlib.axes._subplots.AxesSubplot at 0x7f65ea9e2940>"
      ]
     },
     "execution_count": 58,
     "metadata": {},
     "output_type": "execute_result"
    },
    {
     "data": {
      "image/png": "[encoded data removed]",
      "text/plain": [
       "<Figure size 432x288 with 1 Axes>"
      ]
     },
     "metadata": {
      "needs_background": "light"
     },
     "output_type": "display_data"
    }
   ],
   "source": [
    "df.groupby(['ST', \"City\"]).agg({\"CERT\":[min]})\n",
    "space_count = df['Acquiring Institution'].str.count(\" \")\n",
    "space_count = pd.DataFrame(space_count)\n",
    "space_count.rename(\n",
    "  columns={\n",
    "    \"Acquiring Institution\" : 'Acq. Inst. Space Count'\n",
    "  },\n",
    "  inplace=True\n",
    ")\n",
    "df_3w = pd.concat([df, space_count], axis=1)\n",
    "df_3word = pd.DataFrame(df_3w, columns=['City', 'ST', 'CERT', 'Acquiring Institution',\"Acq. Inst. Space Count\" ])\n",
    "only_3 = df_3word.loc[df_3word['Acq. Inst. Space Count']==2]\n",
    "only_3.shape\n",
    "only_3[[\"City\", \"ST\", \"CERT\"]]\n",
    "a=only_3[\"ST\"].value_counts()\n",
    "a[:15].sort_values(ascending=False).plot(kind='barh',rot=0)\n",
    "b=only_3[\"City\"].value_counts()\n",
    "b[:15].sort_values(ascending=False).plot(kind='barh',rot=0)"
   ]
  },
  {
   "cell_type": "markdown",
   "metadata": {},
   "source": [
    "## Question 3 (30 points)"
   ]
  },
  {
   "cell_type": "code",
   "execution_count": 51,
   "metadata": {},
   "outputs": [],
   "source": [
    "#finally, let us obtain a distribution of CERT column across all records. Then, let us subset the original data frame to \n",
    "#only consider records for which CERT is smaller than 10th percentile of the total. Then, for these records, use pivot table\n",
    "#method to obtain the min, max, and average CERT for each ST combination for which the number of records is \n",
    "#more than 1. We will have index for \n",
    "#state, and then 4 columns: ST,min_CERT, max_CERT, mean_CERT for CERT (make sure\n",
    "#you do not have a multi-level data frame! Finally, display a bar plot for the first 3 states in the resulting\n",
    "#data frame: each of the 3 states will be on x axis, and the corresponding 3 summary statistics will be the 3 bars - stacked\n",
    "#bar plot."
   ]
  },
  {
   "cell_type": "code",
   "execution_count": 86,
   "metadata": {},
   "outputs": [
    {
     "name": "stderr",
     "output_type": "stream",
     "text": [
      "/usr/local/lib/python3.6/dist-packages/ipykernel_launcher.py:44: FutureWarning: Sorting because non-concatenation axis is not aligned. A future version\n",
      "of pandas will change to not sort by default.\n",
      "\n",
      "To accept the future behavior, pass 'sort=False'.\n",
      "\n",
      "To retain the current behavior and silence the warning, pass 'sort=True'.\n",
      "\n"
     ]
    },
    {
     "data": {
      "text/plain": [
       "<matplotlib.axes._subplots.AxesSubplot at 0x7f65eaced128>"
      ]
     },
     "execution_count": 86,
     "metadata": {},
     "output_type": "execute_result"
    },
    {
     "data": {
      "image/png": "[encoded data removed]",
      "text/plain": [
       "<Figure size 432x288 with 1 Axes>"
      ]
     },
     "metadata": {
      "needs_background": "light"
     },
     "output_type": "display_data"
    },
    {
     "data": {
      "image/png": "[encoded data removed]",
      "text/plain": [
       "<Figure size 432x288 with 1 Axes>"
      ]
     },
     "metadata": {
      "needs_background": "light"
     },
     "output_type": "display_data"
    }
   ],
   "source": [
    "# We will have index for \n",
    "#state, and then 4 columns: ST,min_CERT, max_CERT, mean_CERT for CERT (make sure\n",
    "#you do not have a multi-level data frame! \n",
    "#Finally, display a bar plot for the first 3 states in the resulting\n",
    "#data frame: each of the 3 states will be on x axis, \n",
    "#and the corresponding 3 summary statistics will be the 3 bars - stacked\n",
    "#bar plot.\n",
    "\n",
    "\n",
    "\n",
    "#distribution of CERT column across all records\n",
    "dist_cert =df['CERT'].describe(percentiles=[.1])\n",
    "# dist_cert.plot(kind='bar',rot=True)\n",
    "#THe maximum value is ~ 60000, the min appears to be 0 and the average is about 30000\n",
    "\n",
    "\n",
    "\n",
    "# subset the original data frame to \n",
    "#only consider records for which CERT is smaller than 10th percentile of the total.\n",
    "\n",
    "#First: isloating CERT column\n",
    "df_cert = df[\"CERT\"] \n",
    "\n",
    "\n",
    "#Then using logical to return T/F for rows where the CERT is less than the 10th%ile \n",
    "#(10091.60)\n",
    "df_lessthan10 = df_cert < 10091.60\n",
    "\n",
    "\n",
    "#Turning that into a workable DF\n",
    "df_lessthan10 =pd.DataFrame(df_lessthan10)\n",
    "\n",
    "\n",
    "#renaming the column from CERT to CERTS logical against less 10th percetile\n",
    "df_lessthan10.rename(\n",
    "  columns={\n",
    "    \"CERT\" : 'CERTS logical against less 10th percetile'\n",
    "  },\n",
    "  inplace=True\n",
    ")\n",
    "\n",
    "\n",
    "#concatenating the T/F object onto the main DF\n",
    "df_tf = pd.concat([df, df_lessthan10], axis = 0)\n",
    "\n",
    "\n",
    "#Subsetting data for values where < 10th% = true\n",
    "df_CERT_Less = df_tf.loc[df_tf['CERTS logical against less 10th percetile']== True]\n",
    "\n",
    "\n",
    "Cert_stats = pd.DataFrame(Cert_stats)\n",
    "\n",
    "\n",
    "#use pivot table\n",
    "#method to obtain the min, max, and average CERT for each ST combination for which the number of records is \n",
    "#more than 1.\n",
    "table = pd.pivot_table(df,\n",
    "               index =\"ST\",\n",
    "               values= \"CERT\",\n",
    "               aggfunc =[np.mean,np.max,np.min])\n",
    "               \n",
    "table              \n",
    "#Finally, display a bar plot for the first 3 states in the resulting\n",
    "#data frame: each of the 3 states will be on x axis, \n",
    "#and the corresponding 3 summary statistics will be the 3 bars - stacked\n",
    "#bar plot.\n",
    "\n",
    "#displaying first 3 states \n",
    "#the first 3 states each have their min/mean/max equal to one another. \n",
    "table[:3].plot(kind= 'bar')\n",
    "\n",
    "\n",
    "# I want to see those that dont, so i am going to extend the plot\n",
    "table[3:7].plot(kind= 'bar')#the values after the first 3 include a variation across the distribution of mean/min/max. "
   ]
  },
  {
   "cell_type": "code",
   "execution_count": null,
   "metadata": {},
   "outputs": [],
   "source": []
  }
 ],
 "metadata": {
  "kernelspec": {
   "display_name": "Python 3",
   "language": "python",
   "name": "python3"
  },
  "language_info": {
   "codemirror_mode": {
    "name": "ipython",
    "version": 3
   },
   "file_extension": ".py",
   "mimetype": "text/x-python",
   "name": "python",
   "nbconvert_exporter": "python",
   "pygments_lexer": "ipython3",
   "version": "3.6.9"
  }
 },
 "nbformat": 4,
 "nbformat_minor": 2
}
